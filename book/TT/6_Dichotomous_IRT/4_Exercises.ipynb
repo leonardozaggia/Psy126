{
 "cells": [
  {
   "cell_type": "markdown",
   "id": "8d7f6d2b",
   "metadata": {},
   "source": [
    "# 4.4 Exercises\n",
    "## Dichotomous IRT\n",
    "We will now solve a few exercises on Item Response Theory with Dichotomous Data."
   ]
  },
  {
   "cell_type": "markdown",
   "id": "c9cd629f",
   "metadata": {},
   "source": [
    "## 1️⃣ Dimensionality assessment\n",
    "**Instructions:**\n",
    "- Download and load the dataset\n",
    "- Test unidimensionality on the addition items of the `zareki` dataset.\n",
    "- What conclusion can you draw from the results of the analysis?\n",
    "- Is there any items that seems to violate unidimentionality? If so, remove it and run the analysis again, what has changed?"
   ]
  },
  {
   "cell_type": "code",
   "execution_count": null,
   "id": "219ba699",
   "metadata": {},
   "outputs": [],
   "source": [
    "# Data handling\n",
    "\n",
    "# Princals\n",
    "\n",
    "# EFA tetrachoric correlation\n",
    "\n",
    "# ICA"
   ]
  },
  {
   "cell_type": "markdown",
   "id": "b6ef069f",
   "metadata": {},
   "source": [
    "## 2️⃣: The Rasch model\n",
    "**Instructions:**\n",
    "- Analyse the item parameters of a Rasch model\n",
    "    - Assess general model fit\n",
    "    - Assess misfit at the item level\n",
    "    - Clean the dataset and re-fit the Rasch model\n",
    "    - Interpret the result\n",
    "- Plot the item response functions (ICC)"
   ]
  }
 ],
 "metadata": {
  "language_info": {
   "name": "python"
  }
 },
 "nbformat": 4,
 "nbformat_minor": 5
}
