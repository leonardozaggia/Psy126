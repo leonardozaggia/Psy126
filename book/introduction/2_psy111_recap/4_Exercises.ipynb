{
 "cells": [
  {
   "cell_type": "markdown",
   "id": "2dc61023",
   "metadata": {},
   "source": [
    "# 2.4 Exercises"
   ]
  }
 ],
 "metadata": {
  "language_info": {
   "name": "python"
  }
 },
 "nbformat": 4,
 "nbformat_minor": 5
}
